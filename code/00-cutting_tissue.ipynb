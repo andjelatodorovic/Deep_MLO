{
 "cells": [
  {
   "cell_type": "code",
   "execution_count": 1,
   "metadata": {},
   "outputs": [],
   "source": [
    "import seaborn as sns\n",
    "from pathlib import Path\n",
    "from queries import*\n",
    "from utilities import*\n",
    "import os\n",
    "from google.cloud import storage\n"
   ]
  },
  {
   "cell_type": "code",
   "execution_count": 2,
   "metadata": {},
   "outputs": [],
   "source": [
    "import os\n",
    "os.environ[\"GOOGLE_APPLICATION_CREDENTIALS\"]=\"C:\\\\Users\\\\mdsp\\\\Desktop\\\\EPFL\\\\deep-melo-lts4-2ca7c864d933.json\""
   ]
  },
  {
   "cell_type": "code",
   "execution_count": 3,
   "metadata": {},
   "outputs": [],
   "source": [
    "PATIENT_ID = '4A1'\n",
    "base_directory = Path(Path.cwd()).parent\n",
    "INPUT_PATH = os.path.join(base_directory,'data','input','DEEPMEL_' + PATIENT_ID + '\\\\')\n",
    "OUTPUT_PATH = os.path.join(base_directory,'data','output','DEEPMEL_' + PATIENT_ID + '\\\\')\n",
    "PLOT_PATH ='.\\plots\\DEEPMEL_' + PATIENT_ID +'\\''\n",
    "INPUT_FILE = 'DEEPMEL_'+ PATIENT_ID +'_cell_seg_data.txt'\n",
    "TABLE_NAME_BQ = 'DEEPMEL_'+ PATIENT_ID +'_cell_seg_data'\n",
    "#HIGH_VOLUME = high_volume_patients[PATIENT_ID]"
   ]
  },
  {
   "cell_type": "code",
   "execution_count": 4,
   "metadata": {
    "scrolled": true
   },
   "outputs": [],
   "source": [
    "nodes = pd.read_csv(INPUT_PATH + INPUT_FILE,sep='\\t')"
   ]
  },
  {
   "cell_type": "code",
   "execution_count": 5,
   "metadata": {},
   "outputs": [],
   "source": [
    "columns_to_keep = ['cell_id','cell_x_position','cell_y_position','tissue_category','phenotype']\n",
    "nodes = nodes[columns_to_keep]"
   ]
  },
  {
   "cell_type": "code",
   "execution_count": 6,
   "metadata": {},
   "outputs": [
    {
     "data": {
      "text/plain": [
       "142256"
      ]
     },
     "execution_count": 6,
     "metadata": {},
     "output_type": "execute_result"
    }
   ],
   "source": [
    "len(nodes)"
   ]
  },
  {
   "cell_type": "code",
   "execution_count": 7,
   "metadata": {},
   "outputs": [
    {
     "data": {
      "text/html": [
       "<div>\n",
       "<style scoped>\n",
       "    .dataframe tbody tr th:only-of-type {\n",
       "        vertical-align: middle;\n",
       "    }\n",
       "\n",
       "    .dataframe tbody tr th {\n",
       "        vertical-align: top;\n",
       "    }\n",
       "\n",
       "    .dataframe thead th {\n",
       "        text-align: right;\n",
       "    }\n",
       "</style>\n",
       "<table border=\"1\" class=\"dataframe\">\n",
       "  <thead>\n",
       "    <tr style=\"text-align: right;\">\n",
       "      <th></th>\n",
       "      <th>cell_id</th>\n",
       "      <th>cell_x_position</th>\n",
       "      <th>cell_y_position</th>\n",
       "      <th>tissue_category</th>\n",
       "      <th>phenotype</th>\n",
       "    </tr>\n",
       "  </thead>\n",
       "  <tbody>\n",
       "    <tr>\n",
       "      <th>0</th>\n",
       "      <td>1</td>\n",
       "      <td>15246.8</td>\n",
       "      <td>51794.2</td>\n",
       "      <td>stroma</td>\n",
       "      <td>DAPIp</td>\n",
       "    </tr>\n",
       "    <tr>\n",
       "      <th>1</th>\n",
       "      <td>2</td>\n",
       "      <td>15216.1</td>\n",
       "      <td>51806.1</td>\n",
       "      <td>stroma</td>\n",
       "      <td>DAPIp</td>\n",
       "    </tr>\n",
       "    <tr>\n",
       "      <th>2</th>\n",
       "      <td>3</td>\n",
       "      <td>15235.4</td>\n",
       "      <td>51811.1</td>\n",
       "      <td>stroma</td>\n",
       "      <td>DAPIp</td>\n",
       "    </tr>\n",
       "  </tbody>\n",
       "</table>\n",
       "</div>"
      ],
      "text/plain": [
       "   cell_id  cell_x_position  cell_y_position tissue_category phenotype\n",
       "0        1          15246.8          51794.2          stroma     DAPIp\n",
       "1        2          15216.1          51806.1          stroma     DAPIp\n",
       "2        3          15235.4          51811.1          stroma     DAPIp"
      ]
     },
     "execution_count": 7,
     "metadata": {},
     "output_type": "execute_result"
    }
   ],
   "source": [
    "nodes.head(3)"
   ]
  },
  {
   "cell_type": "code",
   "execution_count": 8,
   "metadata": {},
   "outputs": [],
   "source": [
    "INPUT_FILE = 'DEEPMEL_'+ PATIENT_ID +'_cell_seg_data.csv'\n",
    "nodes.to_csv(INPUT_PATH + INPUT_FILE, index=False)"
   ]
  },
  {
   "cell_type": "code",
   "execution_count": 9,
   "metadata": {},
   "outputs": [],
   "source": [
    "#!gsutil cp  .data/input/DEEPMEL_3P1/DEEPMEL_3P1_cell_seg_data.csv  gs://deep-melo-lts4/DEEPMEL_3P1_cell_seg_data.csv"
   ]
  },
  {
   "cell_type": "code",
   "execution_count": 10,
   "metadata": {},
   "outputs": [],
   "source": [
    "def implicit():\n",
    "    from google.cloud import storage\n",
    "\n",
    "    # If you don't specify credentials when constructing the client, the\n",
    "    # client library will look for credentials in the environment.\n",
    "    storage_client = storage.Client.from_service_account_json('C:\\\\Users\\\\mdsp\\\\Desktop\\\\EPFL\\\\deep-melo-lts4-2ca7c864d933.json')\n",
    "\n",
    "    # Make an authenticated API request\n",
    "    buckets = list(storage_client.list_buckets())\n",
    "    print(buckets)"
   ]
  },
  {
   "cell_type": "code",
   "execution_count": 11,
   "metadata": {},
   "outputs": [],
   "source": [
    "def upload_blob(bucket_name, source_file_name, destination_blob_name):\n",
    "    storage_client = storage.Client()\n",
    "    bucket = storage_client.get_bucket(bucket_name)\n",
    "    blob = bucket.blob(destination_blob_name)\n",
    "\n",
    "    blob.upload_from_filename(source_file_name)\n",
    "\n",
    "    print('File {} uploaded to {}.'.format(\n",
    "        source_file_name,\n",
    "        destination_blob_name))"
   ]
  },
  {
   "cell_type": "code",
   "execution_count": 13,
   "metadata": {},
   "outputs": [
    {
     "name": "stdout",
     "output_type": "stream",
     "text": [
      "Treating patient1C5\n",
      "C:\\Users\\mdsp\\Desktop\\EPFL\\data\\input\\DEEPMEL_1C5\\DEEPMEL_1C5_cell_seg_data.csv\n",
      "File C:\\Users\\mdsp\\Desktop\\EPFL\\data\\input\\DEEPMEL_1C5\\DEEPMEL_1C5_cell_seg_data.csv uploaded to gs:/deep-melo-lts4/DEEPMEL_1C5_cell_seg_data.csv.\n",
      "Treating patient1R2\n",
      "C:\\Users\\mdsp\\Desktop\\EPFL\\data\\input\\DEEPMEL_1R2\\DEEPMEL_1R2_cell_seg_data.csv\n",
      "File C:\\Users\\mdsp\\Desktop\\EPFL\\data\\input\\DEEPMEL_1R2\\DEEPMEL_1R2_cell_seg_data.csv uploaded to gs:/deep-melo-lts4/DEEPMEL_1R2_cell_seg_data.csv.\n",
      "Treating patient1S2\n",
      "C:\\Users\\mdsp\\Desktop\\EPFL\\data\\input\\DEEPMEL_1S2\\DEEPMEL_1S2_cell_seg_data.csv\n",
      "File C:\\Users\\mdsp\\Desktop\\EPFL\\data\\input\\DEEPMEL_1S2\\DEEPMEL_1S2_cell_seg_data.csv uploaded to gs:/deep-melo-lts4/DEEPMEL_1S2_cell_seg_data.csv.\n",
      "Treating patient2D2\n",
      "C:\\Users\\mdsp\\Desktop\\EPFL\\data\\input\\DEEPMEL_2D2\\DEEPMEL_2D2_cell_seg_data.csv\n",
      "File C:\\Users\\mdsp\\Desktop\\EPFL\\data\\input\\DEEPMEL_2D2\\DEEPMEL_2D2_cell_seg_data.csv uploaded to gs:/deep-melo-lts4/DEEPMEL_2D2_cell_seg_data.csv.\n",
      "Treating patient3K1\n",
      "C:\\Users\\mdsp\\Desktop\\EPFL\\data\\input\\DEEPMEL_3K1\\DEEPMEL_3K1_cell_seg_data.csv\n",
      "File C:\\Users\\mdsp\\Desktop\\EPFL\\data\\input\\DEEPMEL_3K1\\DEEPMEL_3K1_cell_seg_data.csv uploaded to gs:/deep-melo-lts4/DEEPMEL_3K1_cell_seg_data.csv.\n",
      "Treating patient4A1\n",
      "C:\\Users\\mdsp\\Desktop\\EPFL\\data\\input\\DEEPMEL_4A1\\DEEPMEL_4A1_cell_seg_data.csv\n",
      "File C:\\Users\\mdsp\\Desktop\\EPFL\\data\\input\\DEEPMEL_4A1\\DEEPMEL_4A1_cell_seg_data.csv uploaded to gs:/deep-melo-lts4/DEEPMEL_4A1_cell_seg_data.csv.\n",
      "Treating patient4B1\n",
      "C:\\Users\\mdsp\\Desktop\\EPFL\\data\\input\\DEEPMEL_4B1\\DEEPMEL_4B1_cell_seg_data.csv\n",
      "File C:\\Users\\mdsp\\Desktop\\EPFL\\data\\input\\DEEPMEL_4B1\\DEEPMEL_4B1_cell_seg_data.csv uploaded to gs:/deep-melo-lts4/DEEPMEL_4B1_cell_seg_data.csv.\n",
      "Treating patient4D1\n",
      "C:\\Users\\mdsp\\Desktop\\EPFL\\data\\input\\DEEPMEL_4D1\\DEEPMEL_4D1_cell_seg_data.csv\n",
      "File C:\\Users\\mdsp\\Desktop\\EPFL\\data\\input\\DEEPMEL_4D1\\DEEPMEL_4D1_cell_seg_data.csv uploaded to gs:/deep-melo-lts4/DEEPMEL_4D1_cell_seg_data.csv.\n",
      "Treating patient4E1\n",
      "C:\\Users\\mdsp\\Desktop\\EPFL\\data\\input\\DEEPMEL_4E1\\DEEPMEL_4E1_cell_seg_data.csv\n",
      "File C:\\Users\\mdsp\\Desktop\\EPFL\\data\\input\\DEEPMEL_4E1\\DEEPMEL_4E1_cell_seg_data.csv uploaded to gs:/deep-melo-lts4/DEEPMEL_4E1_cell_seg_data.csv.\n",
      "Treating patient4F1\n",
      "C:\\Users\\mdsp\\Desktop\\EPFL\\data\\input\\DEEPMEL_4F1\\DEEPMEL_4F1_cell_seg_data.csv\n",
      "File C:\\Users\\mdsp\\Desktop\\EPFL\\data\\input\\DEEPMEL_4F1\\DEEPMEL_4F1_cell_seg_data.csv uploaded to gs:/deep-melo-lts4/DEEPMEL_4F1_cell_seg_data.csv.\n",
      "Treating patient4G1\n",
      "C:\\Users\\mdsp\\Desktop\\EPFL\\data\\input\\DEEPMEL_4G1\\DEEPMEL_4G1_cell_seg_data.csv\n",
      "File C:\\Users\\mdsp\\Desktop\\EPFL\\data\\input\\DEEPMEL_4G1\\DEEPMEL_4G1_cell_seg_data.csv uploaded to gs:/deep-melo-lts4/DEEPMEL_4G1_cell_seg_data.csv.\n",
      "Treating patient4H1\n",
      "C:\\Users\\mdsp\\Desktop\\EPFL\\data\\input\\DEEPMEL_4H1\\DEEPMEL_4H1_cell_seg_data.csv\n",
      "File C:\\Users\\mdsp\\Desktop\\EPFL\\data\\input\\DEEPMEL_4H1\\DEEPMEL_4H1_cell_seg_data.csv uploaded to gs:/deep-melo-lts4/DEEPMEL_4H1_cell_seg_data.csv.\n",
      "Treating patient4I1\n",
      "C:\\Users\\mdsp\\Desktop\\EPFL\\data\\input\\DEEPMEL_4I1\\DEEPMEL_4I1_cell_seg_data.csv\n",
      "File C:\\Users\\mdsp\\Desktop\\EPFL\\data\\input\\DEEPMEL_4I1\\DEEPMEL_4I1_cell_seg_data.csv uploaded to gs:/deep-melo-lts4/DEEPMEL_4I1_cell_seg_data.csv.\n",
      "Treating patient4J1\n",
      "C:\\Users\\mdsp\\Desktop\\EPFL\\data\\input\\DEEPMEL_4J1\\DEEPMEL_4J1_cell_seg_data.csv\n",
      "File C:\\Users\\mdsp\\Desktop\\EPFL\\data\\input\\DEEPMEL_4J1\\DEEPMEL_4J1_cell_seg_data.csv uploaded to gs:/deep-melo-lts4/DEEPMEL_4J1_cell_seg_data.csv.\n",
      "Treating patient4K1\n",
      "C:\\Users\\mdsp\\Desktop\\EPFL\\data\\input\\DEEPMEL_4K1\\DEEPMEL_4K1_cell_seg_data.csv\n",
      "File C:\\Users\\mdsp\\Desktop\\EPFL\\data\\input\\DEEPMEL_4K1\\DEEPMEL_4K1_cell_seg_data.csv uploaded to gs:/deep-melo-lts4/DEEPMEL_4K1_cell_seg_data.csv.\n",
      "Treating patient4L1\n",
      "C:\\Users\\mdsp\\Desktop\\EPFL\\data\\input\\DEEPMEL_4L1\\DEEPMEL_4L1_cell_seg_data.csv\n",
      "File C:\\Users\\mdsp\\Desktop\\EPFL\\data\\input\\DEEPMEL_4L1\\DEEPMEL_4L1_cell_seg_data.csv uploaded to gs:/deep-melo-lts4/DEEPMEL_4L1_cell_seg_data.csv.\n",
      "Treating patient4N1\n",
      "C:\\Users\\mdsp\\Desktop\\EPFL\\data\\input\\DEEPMEL_4N1\\DEEPMEL_4N1_cell_seg_data.csv\n",
      "File C:\\Users\\mdsp\\Desktop\\EPFL\\data\\input\\DEEPMEL_4N1\\DEEPMEL_4N1_cell_seg_data.csv uploaded to gs:/deep-melo-lts4/DEEPMEL_4N1_cell_seg_data.csv.\n",
      "Treating patient4O1\n",
      "C:\\Users\\mdsp\\Desktop\\EPFL\\data\\input\\DEEPMEL_4O1\\DEEPMEL_4O1_cell_seg_data.csv\n",
      "File C:\\Users\\mdsp\\Desktop\\EPFL\\data\\input\\DEEPMEL_4O1\\DEEPMEL_4O1_cell_seg_data.csv uploaded to gs:/deep-melo-lts4/DEEPMEL_4O1_cell_seg_data.csv.\n",
      "Treating patient4P1\n",
      "C:\\Users\\mdsp\\Desktop\\EPFL\\data\\input\\DEEPMEL_4P1\\DEEPMEL_4P1_cell_seg_data.csv\n",
      "File C:\\Users\\mdsp\\Desktop\\EPFL\\data\\input\\DEEPMEL_4P1\\DEEPMEL_4P1_cell_seg_data.csv uploaded to gs:/deep-melo-lts4/DEEPMEL_4P1_cell_seg_data.csv.\n",
      "Treating patient4Q1\n",
      "C:\\Users\\mdsp\\Desktop\\EPFL\\data\\input\\DEEPMEL_4Q1\\DEEPMEL_4Q1_cell_seg_data.csv\n",
      "File C:\\Users\\mdsp\\Desktop\\EPFL\\data\\input\\DEEPMEL_4Q1\\DEEPMEL_4Q1_cell_seg_data.csv uploaded to gs:/deep-melo-lts4/DEEPMEL_4Q1_cell_seg_data.csv.\n",
      "Treating patient4R1\n",
      "C:\\Users\\mdsp\\Desktop\\EPFL\\data\\input\\DEEPMEL_4R1\\DEEPMEL_4R1_cell_seg_data.csv\n",
      "File C:\\Users\\mdsp\\Desktop\\EPFL\\data\\input\\DEEPMEL_4R1\\DEEPMEL_4R1_cell_seg_data.csv uploaded to gs:/deep-melo-lts4/DEEPMEL_4R1_cell_seg_data.csv.\n",
      "Treating patient4S1\n",
      "C:\\Users\\mdsp\\Desktop\\EPFL\\data\\input\\DEEPMEL_4S1\\DEEPMEL_4S1_cell_seg_data.csv\n",
      "File C:\\Users\\mdsp\\Desktop\\EPFL\\data\\input\\DEEPMEL_4S1\\DEEPMEL_4S1_cell_seg_data.csv uploaded to gs:/deep-melo-lts4/DEEPMEL_4S1_cell_seg_data.csv.\n",
      "Treating patient4S1\n",
      "C:\\Users\\mdsp\\Desktop\\EPFL\\data\\input\\DEEPMEL_4S1\\DEEPMEL_4S1_cell_seg_data.csv\n",
      "File C:\\Users\\mdsp\\Desktop\\EPFL\\data\\input\\DEEPMEL_4S1\\DEEPMEL_4S1_cell_seg_data.csv uploaded to gs:/deep-melo-lts4/DEEPMEL_4S1_cell_seg_data.csv.\n",
      "Treating patient4S1\n",
      "C:\\Users\\mdsp\\Desktop\\EPFL\\data\\input\\DEEPMEL_4S1\\DEEPMEL_4S1_cell_seg_data.csv\n",
      "File C:\\Users\\mdsp\\Desktop\\EPFL\\data\\input\\DEEPMEL_4S1\\DEEPMEL_4S1_cell_seg_data.csv uploaded to gs:/deep-melo-lts4/DEEPMEL_4S1_cell_seg_data.csv.\n",
      "Treating patient4S1\n",
      "C:\\Users\\mdsp\\Desktop\\EPFL\\data\\input\\DEEPMEL_4S1\\DEEPMEL_4S1_cell_seg_data.csv\n",
      "File C:\\Users\\mdsp\\Desktop\\EPFL\\data\\input\\DEEPMEL_4S1\\DEEPMEL_4S1_cell_seg_data.csv uploaded to gs:/deep-melo-lts4/DEEPMEL_4S1_cell_seg_data.csv.\n"
     ]
    }
   ],
   "source": [
    "Directory = Path(Path.cwd()).parent\n",
    "Directory_path = os.path.join(Directory, 'data','input')\n",
    "files = os.listdir(Directory_path)\n",
    "count_phenotype = pd.DataFrame({})\n",
    "\n",
    "\n",
    "for file in files[:]:\n",
    "    \n",
    "    array = file.split('_')\n",
    "    if len(array)==2:\n",
    "        condition = array[0]\n",
    "        PATIENT_ID = array[1]\n",
    "    else:\n",
    "        condition == ''\n",
    "        \n",
    "    if condition == 'DEEPMEL':\n",
    "        \n",
    "        print('Treating patient' + PATIENT_ID)\n",
    "        INPUT_PATH = os.path.join(Directory,'data','input','DEEPMEL_' + PATIENT_ID + '\\\\')\n",
    "        INPUT_FILE = 'DEEPMEL_'+ PATIENT_ID +'_cell_seg_data.csv'\n",
    "        FILE = os.path.join(INPUT_PATH,INPUT_FILE)\n",
    "        URL = 'gs:/deep-melo-lts4/'+ 'DEEPMEL_'+ PATIENT_ID +'_cell_seg_data.csv'\n",
    "        print(FILE)\n",
    "        upload_blob('deep-melo-lts4', FILE, URL)"
   ]
  },
  {
   "cell_type": "code",
   "execution_count": 20,
   "metadata": {},
   "outputs": [
    {
     "name": "stdout",
     "output_type": "stream",
     "text": [
      "Creating a Bigquery table for a patient1C5\n",
      "Creating a Bigquery table for a patient1R2\n",
      "Creating a Bigquery table for a patient1S2\n",
      "Creating a Bigquery table for a patient2D2\n",
      "Creating a Bigquery table for a patient3K1\n",
      "Creating a Bigquery table for a patient4A1\n",
      "Creating a Bigquery table for a patient4B1\n",
      "Creating a Bigquery table for a patient4D1\n",
      "Creating a Bigquery table for a patient4E1\n",
      "Creating a Bigquery table for a patient4F1\n",
      "Creating a Bigquery table for a patient4G1\n",
      "Creating a Bigquery table for a patient4H1\n",
      "Creating a Bigquery table for a patient4I1\n",
      "Creating a Bigquery table for a patient4J1\n",
      "Creating a Bigquery table for a patient4K1\n",
      "Creating a Bigquery table for a patient4L1\n",
      "Creating a Bigquery table for a patient4N1\n",
      "Creating a Bigquery table for a patient4O1\n",
      "Creating a Bigquery table for a patient4P1\n",
      "Creating a Bigquery table for a patient4Q1\n",
      "Creating a Bigquery table for a patient4R1\n",
      "Creating a Bigquery table for a patient4S1\n",
      "Creating a Bigquery table for a patient4S1\n",
      "Creating a Bigquery table for a patient4S1\n",
      "Creating a Bigquery table for a patient4S1\n"
     ]
    }
   ],
   "source": [
    "from google.cloud import bigquery\n",
    "\n",
    "\n",
    "for file in files[:]:\n",
    "    \n",
    "    array = file.split('_')\n",
    "    if len(array)==2:\n",
    "        condition = array[0]\n",
    "        PATIENT_ID = array[1]\n",
    "    else:\n",
    "        condition == ''\n",
    "        \n",
    "    if condition == 'DEEPMEL':\n",
    "        \n",
    "        bigqueryClient = bigquery.Client()\n",
    "        jobConfig = bigquery.LoadJobConfig()\n",
    "        jobConfig.skip_leading_rows = 1\n",
    "        jobConfig.source_format = bigquery.SourceFormat.CSV\n",
    "        jobConfig.write_disposition = bigquery.WriteDisposition.WRITE_APPEND   \n",
    "        jobConfig.autodetect=True\n",
    "        \n",
    "        print('Creating a Bigquery table for a patient' + PATIENT_ID)\n",
    "        datasetName = \"deepmelo\"\n",
    "        targetTable = 'DEEPMEL_'+ PATIENT_ID +'_cell_seg_data'\n",
    "        uri = \"gs://deep-melo-lts4/gs:/deep-melo-lts4/DEEPMEL_\" + PATIENT_ID + \"_cell_seg_data.csv\"\n",
    "        tableRef = bigqueryClient.dataset(datasetName).table(targetTable)\n",
    "        bigqueryJob = bigqueryClient.load_table_from_uri(uri, tableRef, job_config=jobConfig)\n",
    "        bigqueryJob.result()"
   ]
  },
  {
   "cell_type": "code",
   "execution_count": null,
   "metadata": {
    "collapsed": true
   },
   "outputs": [],
   "source": []
  }
 ],
 "metadata": {
  "environment": {
   "name": "common-cpu.m65",
   "type": "gcloud",
   "uri": "gcr.io/deeplearning-platform-release/base-cpu:m65"
  },
  "kernelspec": {
   "display_name": "Python 3",
   "language": "python",
   "name": "python3"
  },
  "language_info": {
   "codemirror_mode": {
    "name": "ipython",
    "version": 3
   },
   "file_extension": ".py",
   "mimetype": "text/x-python",
   "name": "python",
   "nbconvert_exporter": "python",
   "pygments_lexer": "ipython3",
   "version": "3.8.5"
  }
 },
 "nbformat": 4,
 "nbformat_minor": 5
}
