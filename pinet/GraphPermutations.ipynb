{
 "cells": [
  {
   "cell_type": "code",
   "execution_count": 5,
   "metadata": {},
   "outputs": [],
   "source": [
    "import networkx as nx\n",
    "import numpy as np\n",
    "\n",
    "NODE_LABELS = 'feats'"
   ]
  },
  {
   "cell_type": "code",
   "execution_count": 7,
   "metadata": {},
   "outputs": [
    {
     "name": "stdout",
     "output_type": "stream",
     "text": [
      "[0, 1, 2, 3, 4, 5]\n",
      "[(0, 1), (0, 3), (0, 4), (1, 3), (1, 5), (2, 4), (3, 5), (4, 5)]\n"
     ]
    }
   ],
   "source": [
    "from networkx.generators.random_graphs import erdos_renyi_graph\n",
    "\n",
    "\n",
    "n = 6\n",
    "p = 0.5\n",
    "g = erdos_renyi_graph(n, p)\n",
    "\n",
    "print(g.nodes)\n",
    "print(g.edges)"
   ]
  },
  {
   "cell_type": "code",
   "execution_count": 71,
   "metadata": {},
   "outputs": [],
   "source": [
    "def generate_graph_samples(initial_graph, number_of_graphs, num_node_classes, seed=42):\n",
    "    # Seed\n",
    "    sampled_graphs = []\n",
    "    color_map = []\n",
    "    graph = generate_one_graph_sample(initial_graph, seed)\n",
    "\n",
    "    # generate random node features\n",
    "    node_classes = np.random.randint(0, num_node_classes - 1, nx.number_of_nodes(initial_graph))\n",
    "\n",
    "    feats = {k: v for k, v in enumerate(node_classes)}\n",
    "    nx.set_node_attributes(graph, feats, NODE_LABELS)\n",
    "    nx.draw(graph, with_labels = True)\n",
    "\n",
    "    sampled_graphs.append(graph)\n",
    "\n",
    "    for i in range(number_of_graphs - 1):\n",
    "        sampled_graphs.append(permute_graph(graph, seed=i))\n",
    "\n",
    "    return sampled_graphs"
   ]
  },
  {
   "cell_type": "code",
   "execution_count": 72,
   "metadata": {},
   "outputs": [],
   "source": [
    "def generate_one_graph_sample(initial_graph, seed=42):\n",
    "    degree_sequence = [d for n, d in initial_graph.degree()]\n",
    "    sample_graph = nx.random_degree_sequence_graph(degree_sequence, seed=seed)\n",
    "\n",
    "    return sample_graph"
   ]
  },
  {
   "cell_type": "code",
   "execution_count": 73,
   "metadata": {},
   "outputs": [],
   "source": [
    "def permute_graph(graph, seed):\n",
    "    list_nodes = list(graph.nodes())\n",
    "    np.random.seed(seed)\n",
    "    permuted_list_nodes = np.random.permutation(list_nodes)\n",
    "    new_mapping = {i: j for i, j in zip(list_nodes, permuted_list_nodes)}\n",
    "    H = nx.relabel_nodes(graph, new_mapping)\n",
    "\n",
    "    return H"
   ]
  },
  {
   "cell_type": "code",
   "execution_count": 74,
   "metadata": {},
   "outputs": [],
   "source": [
    "def generate_samples_of_n_classes(num_nodes, num_class, num_graphs_per_class, num_node_classes, p=0.15, seed=42):\n",
    "    initial_graph = nx.generators.erdos_renyi_graph(num_nodes, p, seed)\n",
    "\n",
    "    num_discarded_graphs = 0\n",
    "    while not nx.is_connected(initial_graph):\n",
    "        initial_graph = nx.generators.erdos_renyi_graph(num_nodes, p)\n",
    "        # print(nx.number_connected_components(init_graph))\n",
    "        num_discarded_graphs += 1\n",
    "    print('number of discarded graphs: {}'.format(num_discarded_graphs))\n",
    "    assert (nx.is_connected(initial_graph)), 'graph is not fully connected'\n",
    "\n",
    "    dict_class_graphs = {}\n",
    "    for i in range(num_class):\n",
    "        list_graphs = generate_graph_samples(initial_graph, num_graphs_per_class, num_node_classes, seed=i)\n",
    "        dict_class_graphs[i] = list_graphs\n",
    "\n",
    "    return dict_class_graphs"
   ]
  },
  {
   "cell_type": "code",
   "execution_count": 75,
   "metadata": {},
   "outputs": [],
   "source": [
    "def gen_iter_attributes_dict(nx_graph, num_features, seed=42, attr_name='node_label'):\n",
    "    #    for i in df_nodes.label.unique():\n",
    "    #        yield(i,df_nodes[df_nodes['label']==i].node.tolist())\n",
    "\n",
    "    num_nodes = nx_graph.number_of_nodes()\n",
    "    nodes = list(nx_graph.nodes())\n",
    "    random_features = np.random.choice(range(num_features), num_nodes)\n",
    "\n",
    "    for node, value in zip(nodes, random_features):\n",
    "        yield (node, {attr_name: value})"
   ]
  },
  {
   "cell_type": "code",
   "execution_count": 76,
   "metadata": {},
   "outputs": [],
   "source": [
    "def add_random_categorical_variables(nx_graph, num_features):\n",
    "    nx_graph.add_nodes_from(gen_iter_attributes_dict(nx_graph, num_features))"
   ]
  },
  {
   "cell_type": "code",
   "execution_count": 77,
   "metadata": {},
   "outputs": [],
   "source": [
    "def get_tensors(num_nodes_per_graph, num_graph_classes, num_node_classes, num_graphs_per_class):\n",
    "    graph_dataset = generate_samples_of_n_classes(num_nodes=num_nodes_per_graph,\n",
    "                                                  num_class=num_graph_classes,\n",
    "                                                  num_node_classes=num_node_classes,\n",
    "                                                  num_graphs_per_class=num_graphs_per_class)\n",
    "\n",
    "    A = []\n",
    "    X = []\n",
    "    Y = []\n",
    "\n",
    "    for n in range(num_graph_classes):\n",
    "        for g_id in range(num_graphs_per_class):\n",
    "            A.append(nx.to_numpy_array(graph_dataset[n][g_id], range(num_nodes_per_graph)))\n",
    "            x_kv = nx.get_node_attributes(graph_dataset[n][g_id], NODE_LABELS )\n",
    "            x = np.zeros([num_nodes_per_graph, num_node_classes])\n",
    "            for r, c in x_kv.items():\n",
    "                x[r, c] = 1\n",
    "            X.append(x)\n",
    "\n",
    "            Y.append(n)\n",
    "    Y = np.array(Y).reshape([len(Y), 1])\n",
    "\n",
    "    return np.array(A), np.array(X), Y"
   ]
  },
  {
   "cell_type": "code",
   "execution_count": 80,
   "metadata": {},
   "outputs": [
    {
     "name": "stdout",
     "output_type": "stream",
     "text": [
      "number of discarded graphs: 31\n"
     ]
    },
    {
     "data": {
      "image/png": "[encoded data removed]",
      "text/plain": [
       "<Figure size 432x288 with 1 Axes>"
      ]
     },
     "metadata": {},
     "output_type": "display_data"
    }
   ],
   "source": [
    "nx"
   ]
  },
  {
   "cell_type": "code",
   "execution_count": null,
   "metadata": {},
   "outputs": [],
   "source": [
    "import numpy as np\n",
    "from sklearn.model_selection import StratifiedShuffleSplit\n",
    "from model.PiNet import PiNet\n",
    "from analysis.experiment2 import generate\n",
    "from model.GCNWithOptionalMean import GCNWithOptionalMean\n",
    "\n",
    "from csv import writer"
   ]
  }
 ],
 "metadata": {
  "kernelspec": {
   "display_name": "Python 3",
   "language": "python",
   "name": "python3"
  },
  "language_info": {
   "codemirror_mode": {
    "name": "ipython",
    "version": 3
   },
   "file_extension": ".py",
   "mimetype": "text/x-python",
   "name": "python",
   "nbconvert_exporter": "python",
   "pygments_lexer": "ipython3",
   "version": "3.8.5"
  }
 },
 "nbformat": 4,
 "nbformat_minor": 4
}
